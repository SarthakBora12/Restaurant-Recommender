{
 "cells": [
  {
   "cell_type": "code",
   "execution_count": 1,
   "id": "f6241d51",
   "metadata": {},
   "outputs": [],
   "source": [
    "import pandas as pd\n",
    "import matplotlib.pyplot as plt\n",
    "import seaborn as sns\n",
    "\n",
    "# Load Yelp dataset files\n",
    "business_df = pd.read_json(\"/Users/sarthak/Downloads/Yelp JSON/yelp_dataset/yelp_academic_dataset_business.json\", lines=True)\n"
   ]
  },
  {
   "cell_type": "code",
   "execution_count": null,
   "id": "5f8ebfdc",
   "metadata": {},
   "outputs": [],
   "source": [
    "reviews_df = pd.read_json(\"/Users/sarthak/Downloads/Yelp JSON/yelp_dataset/yelp_academic_dataset_review.json\", lines=True)"
   ]
  },
  {
   "cell_type": "code",
   "execution_count": null,
   "id": "785048c8",
   "metadata": {},
   "outputs": [],
   "source": [
    "print(business_df.shape) "
   ]
  },
  {
   "cell_type": "code",
   "execution_count": null,
   "id": "00f00a71",
   "metadata": {},
   "outputs": [],
   "source": [
    "print(reviews_df.shape) "
   ]
  },
  {
   "cell_type": "code",
   "execution_count": null,
   "id": "5f413e29",
   "metadata": {},
   "outputs": [],
   "source": [
    "# Display initial dataset structure and information\n",
    "print(\"\\nBusiness Dataset Overview:\")\n",
    "print(business_df.info())\n",
    "print(business_df.describe(include='all'))"
   ]
  },
  {
   "cell_type": "code",
   "execution_count": null,
   "id": "7fb933a5",
   "metadata": {},
   "outputs": [],
   "source": [
    "print(\"\\nReview Dataset Overview:\")\n",
    "print(reviews_df.info())"
   ]
  },
  {
   "cell_type": "code",
   "execution_count": null,
   "id": "fca0f29e",
   "metadata": {},
   "outputs": [],
   "source": [
    "print(\"Unique Cities in Dataset:\", business_df['city'].unique())\n",
    "\n"
   ]
  },
  {
   "cell_type": "code",
   "execution_count": null,
   "id": "241b48bf",
   "metadata": {},
   "outputs": [],
   "source": [
    "business_df = business_df.dropna(subset=['city'])\n"
   ]
  },
  {
   "cell_type": "code",
   "execution_count": null,
   "id": "09138156",
   "metadata": {},
   "outputs": [],
   "source": [
    "print(business_df.columns)\n"
   ]
  },
  {
   "cell_type": "code",
   "execution_count": null,
   "id": "ee182cb4",
   "metadata": {},
   "outputs": [],
   "source": [
    "\n"
   ]
  },
  {
   "cell_type": "code",
   "execution_count": null,
   "id": "ebf527e9",
   "metadata": {},
   "outputs": [],
   "source": [
    "# Count the number of businesses per city\n",
    "city_counts = business_df['city'].value_counts()\n",
    "\n",
    "# Display the top 10 cities with the highest number of businesses\n",
    "top_cities = city_counts.head(10)\n",
    "print(\"\\nTop 10 Cities with the Most Businesses:\")\n",
    "print(top_cities)"
   ]
  },
  {
   "cell_type": "code",
   "execution_count": null,
   "id": "a0a402a9",
   "metadata": {},
   "outputs": [],
   "source": [
    "# Visualization - Top 10 Cities with Most Businesses\n",
    "plt.figure(figsize=(12,5))\n",
    "sns.barplot(x=top_cities.index, y=top_cities.values, palette='coolwarm')\n",
    "plt.xlabel(\"City\")\n",
    "plt.ylabel(\"Number of Businesses\")\n",
    "plt.title(\"Top 10 Cities with the Most Businesses\")\n",
    "plt.xticks(rotation=45)\n",
    "plt.show()"
   ]
  },
  {
   "cell_type": "code",
   "execution_count": null,
   "id": "4a71ae2e",
   "metadata": {},
   "outputs": [],
   "source": [
    "\n",
    "# Check city names to ensure correct filtering\n",
    "print(\"Sample city names:\", business_df['city'].dropna().unique()[:20])  # Print first 20 unique city names\n",
    "\n",
    "# Define selected cities (make sure names match actual dataset)\n",
    "selected_cities = [\"Philadelphia\", \"tucson\", \"Tampa\", \"Indianapolis\", \"Nashville\"]\n",
    "\n",
    "# Drop NaN values in 'city' column\n",
    "business_df = business_df.dropna(subset=['city'])\n",
    "\n",
    "# Convert 'city' column to lowercase for consistent matching\n",
    "business_df['city'] = business_df['city'].astype(str).str.lower()\n",
    "selected_cities_lower = [c.lower() for c in selected_cities]\n",
    "\n",
    "# Apply filtering (case insensitive)\n",
    "filtered_business_df = business_df[business_df['city'].isin(selected_cities_lower)]\n",
    "\n",
    "# Print results\n",
    "print(\"Filtered dataset shape:\", filtered_business_df.shape)\n",
    "print(filtered_business_df['city'].value_counts())"
   ]
  },
  {
   "cell_type": "code",
   "execution_count": null,
   "id": "da0b3a61",
   "metadata": {},
   "outputs": [],
   "source": [
    "# Define selected cities for analysis\n",
    "selected_cities = [\"philadelphia\", \"tucson\", \"tampa\", \"indianapolis\", \"nashville\"]\n",
    "\n",
    "# Check available city names before filtering\n",
    "print(\"\\nUnique city names in dataset:\")\n",
    "print(business_df['city'].unique())\n",
    "\n",
    "# Filter dataset for selected cities\n",
    "filtered_business_df = business_df[business_df['city'].isin(selected_cities)]\n",
    "print(\"\\nFiltered Business Dataset Overview:\")\n",
    "print(filtered_business_df.info())"
   ]
  },
  {
   "cell_type": "code",
   "execution_count": null,
   "id": "6b2f8ab5",
   "metadata": {},
   "outputs": [],
   "source": [
    "# Extract only restaurant businesses\n",
    "restaurant_df = filtered_business_df[filtered_business_df['categories'].str.contains('Restaurant', na=False)]\n",
    "print(\"\\nFiltered Restaurant Dataset Overview:\")\n",
    "print(restaurant_df.info())\n"
   ]
  },
  {
   "cell_type": "code",
   "execution_count": null,
   "id": "42347b77",
   "metadata": {},
   "outputs": [],
   "source": [
    "# Count restaurants per city\n",
    "restaurant_counts = restaurant_df['city'].value_counts()\n",
    "print(\"\\nNumber of Restaurants per City:\")\n",
    "print(restaurant_counts)"
   ]
  },
  {
   "cell_type": "code",
   "execution_count": null,
   "id": "942e8367",
   "metadata": {},
   "outputs": [],
   "source": [
    "# Merge reviews with restaurant data\n",
    "print(\"\\nMerging reviews with restaurant data...\")\n",
    "reviews_df = reviews_df.merge(restaurant_df[['business_id', 'city']], on='business_id', how='inner')\n",
    "print(\"Filtered Review Dataset Overview:\")\n",
    "print(reviews_df.info())"
   ]
  },
  {
   "cell_type": "code",
   "execution_count": null,
   "id": "a8cca881",
   "metadata": {},
   "outputs": [],
   "source": [
    "# Compute average star rating per city\n",
    "avg_star_ratings = reviews_df.groupby('city')['stars'].mean()\n",
    "print(\"\\nAverage Star Ratings per City:\")\n",
    "print(avg_star_ratings)\n"
   ]
  },
  {
   "cell_type": "code",
   "execution_count": null,
   "id": "12d11528",
   "metadata": {},
   "outputs": [],
   "source": [
    "# Compute review length statistics\n",
    "reviews_df['review_length'] = reviews_df['text'].apply(len)\n",
    "review_length_stats = reviews_df.groupby('city')['review_length'].describe()\n",
    "print(\"\\nReview Length Statistics per City:\")\n",
    "print(review_length_stats)"
   ]
  },
  {
   "cell_type": "code",
   "execution_count": null,
   "id": "a1c65665",
   "metadata": {},
   "outputs": [],
   "source": [
    "# Count reviews per year\n",
    "reviews_df['year'] = pd.to_datetime(reviews_df['date']).dt.year\n",
    "review_counts_by_year = reviews_df.groupby(['city', 'year']).size().unstack().fillna(0)\n"
   ]
  },
  {
   "cell_type": "code",
   "execution_count": null,
   "id": "c28b0c43",
   "metadata": {},
   "outputs": [],
   "source": [
    "# Visualization - Restaurant count per city\n",
    "plt.figure(figsize=(10,5))\n",
    "sns.barplot(x=restaurant_counts.index, y=restaurant_counts.values, palette='viridis')\n",
    "plt.xlabel(\"City\")\n",
    "plt.ylabel(\"Number of Restaurants\")\n",
    "plt.title(\"Number of Restaurants per City\")\n",
    "plt.show()\n"
   ]
  },
  {
   "cell_type": "code",
   "execution_count": null,
   "id": "89a17044",
   "metadata": {},
   "outputs": [],
   "source": [
    "# Visualization - Average star rating per city\n",
    "plt.figure(figsize=(10,5))\n",
    "sns.barplot(x=avg_star_ratings.index, y=avg_star_ratings.values, palette='coolwarm')\n",
    "plt.xlabel(\"City\")\n",
    "plt.ylabel(\"Average Star Rating\")\n",
    "plt.title(\"Average Star Rating per City\")\n",
    "plt.show()"
   ]
  },
  {
   "cell_type": "code",
   "execution_count": null,
   "id": "8f855c79",
   "metadata": {},
   "outputs": [],
   "source": [
    "# Visualization - Review length distribution per city\n",
    "plt.figure(figsize=(12,6))\n",
    "sns.boxplot(x='city', y='review_length', data=reviews_df, palette='Set2')\n",
    "plt.xlabel(\"City\")\n",
    "plt.ylabel(\"Review Length\")\n",
    "plt.title(\"Distribution of Review Lengths per City\")\n",
    "plt.show()"
   ]
  },
  {
   "cell_type": "code",
   "execution_count": null,
   "id": "9163a30b",
   "metadata": {},
   "outputs": [],
   "source": [
    "\n",
    "# Visualization - Review counts over years per city\n",
    "plt.figure(figsize=(12,6))\n",
    "review_counts_by_year.T.plot(kind='line', figsize=(12,6), marker='o')\n",
    "plt.xlabel(\"Year\")\n",
    "plt.ylabel(\"Number of Reviews\")\n",
    "plt.title(\"Review Trends Over Time per City\")\n",
    "plt.legend(title=\"City\")\n",
    "plt.show()"
   ]
  },
  {
   "cell_type": "code",
   "execution_count": null,
   "id": "06669216",
   "metadata": {},
   "outputs": [],
   "source": [
    "# Save processed data for further analysis\n",
    "filtered_business_df.to_csv(\"filtered_business_data.csv\", index=False)\n",
    "reviews_df.to_csv(\"filtered_reviews_data.csv\", index=False)"
   ]
  },
  {
   "cell_type": "code",
   "execution_count": null,
   "id": "897ddcd4",
   "metadata": {},
   "outputs": [],
   "source": []
  },
  {
   "cell_type": "code",
   "execution_count": null,
   "id": "37097257",
   "metadata": {},
   "outputs": [],
   "source": [
    "# Convert star ratings into positive (1) and negative (0) sentiment labels\n",
    "reviews_df['sentiment'] = reviews_df['stars'].apply(lambda x: 1 if x > 3 else 0)\n",
    "\n",
    "# Ground truth sentiment labels\n",
    "y_true = reviews_df['sentiment'].values\n"
   ]
  },
  {
   "cell_type": "code",
   "execution_count": null,
   "id": "997c121c",
   "metadata": {},
   "outputs": [],
   "source": [
    "from sklearn.feature_extraction.text import CountVectorizer\n",
    "from sklearn.naive_bayes import MultinomialNB\n",
    "\n",
    "# Create raw text model (Before Pre-processing)\n",
    "vectorizer_raw = CountVectorizer()  # No text cleaning applied\n",
    "X_raw = vectorizer_raw.fit_transform(reviews_df['text'])\n",
    "model_raw = MultinomialNB()\n",
    "model_raw.fit(X_raw, y_true)\n",
    "y_pred_raw = model_raw.predict(X_raw)\n"
   ]
  },
  {
   "cell_type": "code",
   "execution_count": null,
   "id": "c3410f47",
   "metadata": {},
   "outputs": [],
   "source": [
    "from sklearn.feature_extraction.text import TfidfVectorizer\n",
    "\n",
    "# Create cleaned text model (After Pre-processing)\n",
    "vectorizer_clean = TfidfVectorizer(stop_words='english', lowercase=True)\n",
    "X_clean = vectorizer_clean.fit_transform(reviews_df['text'])\n",
    "model_clean = MultinomialNB()\n",
    "model_clean.fit(X_clean, y_true)\n",
    "y_pred_clean = model_clean.predict(X_clean)\n"
   ]
  },
  {
   "cell_type": "code",
   "execution_count": null,
   "id": "d8b78f05",
   "metadata": {},
   "outputs": [],
   "source": []
  },
  {
   "cell_type": "code",
   "execution_count": null,
   "id": "2dc95a6e",
   "metadata": {},
   "outputs": [],
   "source": []
  }
 ],
 "metadata": {
  "kernelspec": {
   "display_name": "Python [conda env:base] *",
   "language": "python",
   "name": "conda-base-py"
  },
  "language_info": {
   "codemirror_mode": {
    "name": "ipython",
    "version": 3
   },
   "file_extension": ".py",
   "mimetype": "text/x-python",
   "name": "python",
   "nbconvert_exporter": "python",
   "pygments_lexer": "ipython3",
   "version": "3.12.7"
  }
 },
 "nbformat": 4,
 "nbformat_minor": 5
}
